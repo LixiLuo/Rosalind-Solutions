{
 "cells": [
  {
   "cell_type": "markdown",
   "metadata": {},
   "source": [
    "Mine:"
   ]
  },
  {
   "cell_type": "code",
   "execution_count": 79,
   "metadata": {},
   "outputs": [],
   "source": [
    "#The dominant allele p for each mate type:\n",
    "#km,kn=1\n",
    "#mm=0.75\n",
    "#mn=0.5\n",
    "#nn=0"
   ]
  },
  {
   "cell_type": "code",
   "execution_count": 88,
   "metadata": {},
   "outputs": [
    {
     "data": {
      "text/plain": [
       "0.8068306010928962"
      ]
     },
     "execution_count": 88,
     "metadata": {},
     "output_type": "execute_result"
    }
   ],
   "source": [
    "k=24 \n",
    "m=20 \n",
    "n=17\n",
    "t1=k+m+n\n",
    "t2=t1-1\n",
    "p=k/t1+m/t1*(k/t2+0.75*(m-1)/t2+0.5*n/t2)+n/t1*(k/t2+0.5*m/t2)\n",
    "p"
   ]
  },
  {
   "cell_type": "markdown",
   "metadata": {},
   "source": [
    "Rosalind's:"
   ]
  },
  {
   "cell_type": "code",
   "execution_count": 87,
   "metadata": {},
   "outputs": [
    {
     "data": {
      "text/plain": [
       "0.8068306010928962"
      ]
     },
     "execution_count": 87,
     "metadata": {},
     "output_type": "execute_result"
    }
   ],
   "source": [
    "def firstLaw(k,m,n):\n",
    "   N = float(k+m+n)\n",
    "   return(1 - 1/N/(N-1)*(n*(n-1) + n*m + m*(m-1)/4.)) #因为抽到nm和mn后的纯合子nn概率都是0.5 ，相加得1，所以n*m前不必再*0.5\n",
    "firstLaw(24,20,17)"
   ]
  }
 ],
 "metadata": {
  "kernelspec": {
   "display_name": "Python 3",
   "language": "python",
   "name": "python3"
  },
  "language_info": {
   "codemirror_mode": {
    "name": "ipython",
    "version": 3
   },
   "file_extension": ".py",
   "mimetype": "text/x-python",
   "name": "python",
   "nbconvert_exporter": "python",
   "pygments_lexer": "ipython3",
   "version": "3.7.4"
  }
 },
 "nbformat": 4,
 "nbformat_minor": 2
}
