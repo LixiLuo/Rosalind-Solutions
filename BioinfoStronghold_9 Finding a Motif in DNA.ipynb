{
 "cells": [
  {
   "cell_type": "markdown",
   "metadata": {},
   "source": [
    "Mine:"
   ]
  },
  {
   "cell_type": "code",
   "execution_count": 43,
   "metadata": {},
   "outputs": [],
   "source": [
    "seq='TGGCGCTTTTGGCGCTATTCCTGGCGCTTGTGGCGCTGCCATGTGGCGCTGGTGGCGCTTGGCGCTTGTGGCGCTATATACACGCTGGCGCTACCCACCGTGGCGCTAGATGTGGCGCTTGGCGCTTGCTGGCGCTATGGCGCTAAATGGCGCTTGGCGCTTGGCGCTTGGCGCTATGGCGCTGCTGGCGCTTTGGCGCTGTACTGGCGCTTGGCGCTTGGCGCTAAAGTGGCGCTCTGGCGCTTGGCGCTTGGCGCTCAGGTGGCGCTTGGCGCTTGGCGCTGTGGCGCTGTCTGGCGCTGTGGCGCTTTGGCGCTTGGCGCTGCTTGGCGCTTTGGCGCTTTGGCGCTATTTCATTTGGCGCTTCATTGGCGCTGCCCTGGCGCTTGGCGCTTGGCGCTTGGCGCTTGGCGCTGGCTGGCGCTGCCTCTCGAGTGGCGCTTGGCGCTTGGCGCTTGGCGCTCTGGCGCTCCGGAGTGGCGCTAACGGTGGCGCTCCATCGATGGCGCTTGGCGCTGCCCGCTGGCGCTTTTGTGGCGCTTGGCGCTTGAAAGGCCATGGCGCTAGTGGCGCTTATTTGGCGCTACATTGGCGCTCGGTTGGCGCTCCGCCTGTGGCGCTTGGCGCTGTGGCGCTCCCTTCAGAGGGCTGGCGCTATGGCGCTTGGCGCTTTGGCGCTTGGCGCTGATGCTGGCGCTTGGCGCTATGGCGCTTGGCGCTTGGCGCTTGGCGCTGTGGCGCTCCTGGCGCTGTTGGCGCTTGGCGCTTGGCGCTATGGCGCTGCCTGGCGCTTCATGGCGCTCTTGATTGGCGCTGCGACGAATGGCGCTGGCTGGCGCTCG'\n",
    "t='TGGCGCTTG'"
   ]
  },
  {
   "cell_type": "code",
   "execution_count": 48,
   "metadata": {},
   "outputs": [
    {
     "name": "stdout",
     "output_type": "stream",
     "text": [
      "22 53 60 113 120 148 155 162 205 212 238 245 263 270 311 381 388 395 402 436 443 450 504 535 542 615 658 673 692 707 714 721 754 761 "
     ]
    }
   ],
   "source": [
    "location=[]\n",
    "for n in range(0,len(seq)-len(t)):\n",
    "    if t==seq[n:n+len(t)]:\n",
    "        location.append(n+1)\n",
    "for i in location:\n",
    "    print(i,end=' ')  #去掉int list里面逗号的方法，总是忘记#"
   ]
  },
  {
   "cell_type": "markdown",
   "metadata": {},
   "source": [
    "Rosalind:"
   ]
  },
  {
   "cell_type": "code",
   "execution_count": 40,
   "metadata": {},
   "outputs": [
    {
     "name": "stdout",
     "output_type": "stream",
     "text": [
      "22 53 60 113 120 148 155 162 205 212 238 245 263 270 311 381 388 395 402 436 443 450 504 535 542 615 658 673 692 707 714 721 754 761 "
     ]
    }
   ],
   "source": [
    "#根据rosalind第一名改良我的：\n",
    "\n",
    "for n in range(0,len(seq)-len(t)):\n",
    "    if t==seq[n:n+len(t)]:\n",
    "        print(n+1,end=' ')"
   ]
  },
  {
   "cell_type": "markdown",
   "metadata": {},
   "source": [
    "Rosalind更聪明办法：            \n",
    "用startswith"
   ]
  },
  {
   "cell_type": "code",
   "execution_count": 45,
   "metadata": {},
   "outputs": [
    {
     "name": "stdout",
     "output_type": "stream",
     "text": [
      "22 53 60 113 120 148 155 162 205 212 238 245 263 270 311 381 388 395 402 436 443 450 504 535 542 615 658 673 692 707 714 721 754 761 "
     ]
    }
   ],
   "source": [
    "for i in range(len(seq)):\n",
    "    if seq[i:].startswith(t):\n",
    "        print(i+1,end=' ')"
   ]
  },
  {
   "cell_type": "markdown",
   "metadata": {},
   "source": [
    "Or:         \n",
    "用while(无限循环) + find"
   ]
  },
  {
   "cell_type": "code",
   "execution_count": 64,
   "metadata": {},
   "outputs": [
    {
     "name": "stdout",
     "output_type": "stream",
     "text": [
      "22 53 60 113 120 148 155 162 205 212 238 245 263 270 311 381 388 395 402 436 443 450 504 535 542 615 658 673 692 707 714 721 754 761 0 "
     ]
    }
   ],
   "source": [
    "r = 0\n",
    "while r != -1:      ##这里必须是-1，为什么？？？\n",
    "        r = seq.find(t,r+1)  #r+1用得太聪明了\n",
    "        print(r+1,end=' ')"
   ]
  },
  {
   "cell_type": "code",
   "execution_count": 65,
   "metadata": {},
   "outputs": [
    {
     "data": {
      "text/plain": [
       "21"
      ]
     },
     "execution_count": 65,
     "metadata": {},
     "output_type": "execute_result"
    }
   ],
   "source": [
    "seq.find(t,0)"
   ]
  }
 ],
 "metadata": {
  "kernelspec": {
   "display_name": "Python 3",
   "language": "python",
   "name": "python3"
  },
  "language_info": {
   "codemirror_mode": {
    "name": "ipython",
    "version": 3
   },
   "file_extension": ".py",
   "mimetype": "text/x-python",
   "name": "python",
   "nbconvert_exporter": "python",
   "pygments_lexer": "ipython3",
   "version": "3.7.4"
  }
 },
 "nbformat": 4,
 "nbformat_minor": 2
}
