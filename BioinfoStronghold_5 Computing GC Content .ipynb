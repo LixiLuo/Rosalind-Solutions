{
 "cells": [
  {
   "cell_type": "markdown",
   "metadata": {},
   "source": [
    "Mine:"
   ]
  },
  {
   "cell_type": "code",
   "execution_count": 130,
   "metadata": {},
   "outputs": [
    {
     "name": "stdout",
     "output_type": "stream",
     "text": [
      "Rosalind_2992\n",
      "50.778443113772454\n"
     ]
    }
   ],
   "source": [
    "path='C:\\\\Users\\Luo_L\\Desktop\\Python Examples/rosalind_gc1.txt'\n",
    "f=open(path)\n",
    "raw=f.read().replace('\\n','').split('>')\n",
    "raw.remove('')\n",
    "pct_list=[]\n",
    "for seq in raw:\n",
    "    c=seq.count('C')\n",
    "    g=seq.count('G')\n",
    "    total=len(seq[13:])\n",
    "    pct=(c+g)/total*100\n",
    "    pct_list.append([seq[:13],pct])\n",
    "\n",
    "pct_list.sort(key=lambda x:x[1])  #复习了sort(key=lambda x:)#\n",
    "answer=pct_list[-1]\n",
    "for y in answer:\n",
    "    print(y)\n",
    "f.close()"
   ]
  },
  {
   "cell_type": "markdown",
   "metadata": {},
   "source": [
    "From Rosalind:          \n",
    "1. 分开基因名与序列的更聪明的方式         \n",
    "2. 选大小值的更聪明方式\n",
    "3. !!!永远不要忘记dict的妙用: d[gc]=fasta"
   ]
  },
  {
   "cell_type": "code",
   "execution_count": 131,
   "metadata": {},
   "outputs": [
    {
     "name": "stdout",
     "output_type": "stream",
     "text": [
      "Rosalind_2992\n",
      "50.778443113772454\n"
     ]
    }
   ],
   "source": [
    "dnafile = open('C:\\\\Users\\Luo_L\\Desktop\\Python Examples/rosalind_gc1.txt', 'r')\n",
    "raw = dnafile.read()\n",
    "d = {}\n",
    "for seqblock in raw.split(\">\")[1:]:\n",
    "    parts = seqblock.split(\"\\n\")\n",
    "    fasta = parts[0]\n",
    "    seq = ''.join(parts[1:])\n",
    "    gc = 100 * ( seq.count(\"G\") + seq.count(\"C\") ) / float(len(seq))\n",
    "    d[gc] = fasta \n",
    "    \n",
    "    #我的笔记#\n",
    "    #不要写成d[fasta]=gc，否则下面max(d)选的就是最大的Rosalind_xxxx#\n",
    "    #当然d[fast]=gc也可以用max(d.values())，但通过value找key比通过key找value麻烦多了#\n",
    "\n",
    "print( d[max(d)])\n",
    "print(max(d))"
   ]
  },
  {
   "cell_type": "markdown",
   "metadata": {},
   "source": [
    "当然还有更笨更曲折的办法是把dict变成dataframe，再用sort_values分类"
   ]
  }
 ],
 "metadata": {
  "kernelspec": {
   "display_name": "Python 3",
   "language": "python",
   "name": "python3"
  },
  "language_info": {
   "codemirror_mode": {
    "name": "ipython",
    "version": 3
   },
   "file_extension": ".py",
   "mimetype": "text/x-python",
   "name": "python",
   "nbconvert_exporter": "python",
   "pygments_lexer": "ipython3",
   "version": "3.7.4"
  }
 },
 "nbformat": 4,
 "nbformat_minor": 2
}
