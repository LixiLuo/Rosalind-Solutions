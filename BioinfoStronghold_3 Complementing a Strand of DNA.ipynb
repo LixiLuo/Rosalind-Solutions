{
 "cells": [
  {
   "cell_type": "markdown",
   "metadata": {},
   "source": [
    "Mine:           \n",
    "用Series[::-1]颠倒顺序          \n",
    "但其实还可以用sort_values或sort_index"
   ]
  },
  {
   "cell_type": "code",
   "execution_count": 15,
   "metadata": {},
   "outputs": [
    {
     "name": "stdout",
     "output_type": "stream",
     "text": [
      "GGCAGTTGGAGCCCGTATATAGTGGGCATTCAGCTTAAGTTAGTCTTAGCACTGGGACACCTTGGGAGAACAGGAGTGGATTGACCGGTCCGCTTTACTGCTTCCTGCCAGAGGTACTAGCCACAGCTGCTACTCCAAAAGCCAGTGGACCTGAGCTGGCCATCGTTCCACCGGAATGGGACGGAGGAATTGCAAGCTCCCGTTGGACAGCTAAGACTTAACCTTAAGTCTCGCACTGGATGAAGGGGCAAGCCCATGCCAGTACGCGGGGAACGAGCGTACAAGGGCTAACATAGGGGAAATACCTCAGCAAGATTGCAGTCCTATCGTTATCTGACCATAAGTAACAGATTCGAACGTAGCTGGGATCATTTACCTACCGGACGCCCCGAGGCGGGAATGAGCGTCGCGGCTTCAGGTGGTCCATCTCTCCTGCTAACAGAAGACGTAGATGCGGATCCGGGGGGAGTTGTCGGATTGCTGAAGTGGTATCTAAACCCCGATGTGTCAACGGCGCGATCGTTTTAGCTGTTAAAGTGTACTACAGGTGGTTGTGAGGGCGACCACTCCGTTTGTTTGGGACTTCCTTTACCGCCACAAGTCTGTTCCCACACGGCACAGAGATCTAAAAATAGCGTAGACTCAGCGCCGACGACTCATTTGAGGAGAGAGTGTCGTTGGGGCTCATCGGGTTCCGTATGGCGAGGTATGGACCCCGGGGTCACCCGATATAATGCATAGCGGGACCCGACTCAGCGGCCAACGATTGCAGTCAAGATTCGTTGATCTTGCTGACGGAAAGACATATTACAAATACGACGACTATCGTCAGAGGCCCTGGAA\n"
     ]
    }
   ],
   "source": [
    "seq=list('TTCCAGGGCCTCTGACGATAGTCGTCGTATTTGTAATATGTCTTTCCGTCAGCAAGATCAACGAATCTTGACTGCAATCGTTGGCCGCTGAGTCGGGTCCCGCTATGCATTATATCGGGTGACCCCGGGGTCCATACCTCGCCATACGGAACCCGATGAGCCCCAACGACACTCTCTCCTCAAATGAGTCGTCGGCGCTGAGTCTACGCTATTTTTAGATCTCTGTGCCGTGTGGGAACAGACTTGTGGCGGTAAAGGAAGTCCCAAACAAACGGAGTGGTCGCCCTCACAACCACCTGTAGTACACTTTAACAGCTAAAACGATCGCGCCGTTGACACATCGGGGTTTAGATACCACTTCAGCAATCCGACAACTCCCCCCGGATCCGCATCTACGTCTTCTGTTAGCAGGAGAGATGGACCACCTGAAGCCGCGACGCTCATTCCCGCCTCGGGGCGTCCGGTAGGTAAATGATCCCAGCTACGTTCGAATCTGTTACTTATGGTCAGATAACGATAGGACTGCAATCTTGCTGAGGTATTTCCCCTATGTTAGCCCTTGTACGCTCGTTCCCCGCGTACTGGCATGGGCTTGCCCCTTCATCCAGTGCGAGACTTAAGGTTAAGTCTTAGCTGTCCAACGGGAGCTTGCAATTCCTCCGTCCCATTCCGGTGGAACGATGGCCAGCTCAGGTCCACTGGCTTTTGGAGTAGCAGCTGTGGCTAGTACCTCTGGCAGGAAGCAGTAAAGCGGACCGGTCAATCCACTCCTGTTCTCCCAAGGTGTCCCAGTGCTAAGACTAACTTAAGCTGAATGCCCACTATATACGGGCTCCAACTGCC')\n",
    "import pandas as pd\n",
    "S=pd.Series(seq)\n",
    "Sr=S.replace({'A':'T','T':'A','C':'G','G':'C'})\n",
    "S_list=Sr[::-1].tolist()\n",
    "print(''.join(S_list))"
   ]
  },
  {
   "cell_type": "markdown",
   "metadata": {},
   "source": [
    "My version 2: a stupid version   \n",
    "Series.replace(dict) +list(Series) +reversed(list) +''.join(list)"
   ]
  },
  {
   "cell_type": "code",
   "execution_count": 16,
   "metadata": {},
   "outputs": [
    {
     "name": "stdout",
     "output_type": "stream",
     "text": [
      "GGCAGTTGGAGCCCGTATATAGTGGGCATTCAGCTTAAGTTAGTCTTAGCACTGGGACACCTTGGGAGAACAGGAGTGGATTGACCGGTCCGCTTTACTGCTTCCTGCCAGAGGTACTAGCCACAGCTGCTACTCCAAAAGCCAGTGGACCTGAGCTGGCCATCGTTCCACCGGAATGGGACGGAGGAATTGCAAGCTCCCGTTGGACAGCTAAGACTTAACCTTAAGTCTCGCACTGGATGAAGGGGCAAGCCCATGCCAGTACGCGGGGAACGAGCGTACAAGGGCTAACATAGGGGAAATACCTCAGCAAGATTGCAGTCCTATCGTTATCTGACCATAAGTAACAGATTCGAACGTAGCTGGGATCATTTACCTACCGGACGCCCCGAGGCGGGAATGAGCGTCGCGGCTTCAGGTGGTCCATCTCTCCTGCTAACAGAAGACGTAGATGCGGATCCGGGGGGAGTTGTCGGATTGCTGAAGTGGTATCTAAACCCCGATGTGTCAACGGCGCGATCGTTTTAGCTGTTAAAGTGTACTACAGGTGGTTGTGAGGGCGACCACTCCGTTTGTTTGGGACTTCCTTTACCGCCACAAGTCTGTTCCCACACGGCACAGAGATCTAAAAATAGCGTAGACTCAGCGCCGACGACTCATTTGAGGAGAGAGTGTCGTTGGGGCTCATCGGGTTCCGTATGGCGAGGTATGGACCCCGGGGTCACCCGATATAATGCATAGCGGGACCCGACTCAGCGGCCAACGATTGCAGTCAAGATTCGTTGATCTTGCTGACGGAAAGACATATTACAAATACGACGACTATCGTCAGAGGCCCTGGAA\n"
     ]
    }
   ],
   "source": [
    "S=pd.Series(seq)\n",
    "Sr=S.replace({'A':'T','T':'A','C':'G','G':'C'})\n",
    "S_list=list(reversed(Sr.tolist()))\n",
    "print(''.join(S_list))"
   ]
  },
  {
   "cell_type": "markdown",
   "metadata": {},
   "source": [
    "From Rosalind:"
   ]
  },
  {
   "cell_type": "code",
   "execution_count": 56,
   "metadata": {},
   "outputs": [
    {
     "name": "stdout",
     "output_type": "stream",
     "text": [
      "ACCGGGTTTT\n"
     ]
    }
   ],
   "source": [
    "s = 'AAAACCCGGT'\n",
    "print(s[::-1].translate(str.maketrans('ACGT', 'TGCA')))"
   ]
  },
  {
   "cell_type": "markdown",
   "metadata": {},
   "source": [
    "Or:"
   ]
  },
  {
   "cell_type": "code",
   "execution_count": 58,
   "metadata": {},
   "outputs": [
    {
     "name": "stdout",
     "output_type": "stream",
     "text": [
      "ACCGGGTTTT\n"
     ]
    }
   ],
   "source": [
    "st = \"AAAACCCGGT\"\n",
    "st = st.replace('A', 't').replace('T', 'a').replace('C', 'g').replace('G', 'c').upper()[::-1]\n",
    "print (st)"
   ]
  },
  {
   "cell_type": "markdown",
   "metadata": {},
   "source": [
    "Or:看似复杂却妙用dict和append的方法~~~    \n",
    "\n",
    "compement[i]实际就是dict[key],即得到已设好互补的dict[value]"
   ]
  },
  {
   "cell_type": "code",
   "execution_count": 74,
   "metadata": {},
   "outputs": [
    {
     "name": "stdout",
     "output_type": "stream",
     "text": [
      "ACCGGGTTTT\n"
     ]
    }
   ],
   "source": [
    "input = \"AAAACCCGGT\"\n",
    "complement = { \"A\" : \"T\", \"T\" : \"A\", \"C\" : \"G\", \"G\" : \"C\"}\n",
    "result = [] \n",
    "for i in input[::-1]: \n",
    "    result.append(complement[i])\n",
    "print (''.join(result))"
   ]
  }
 ],
 "metadata": {
  "kernelspec": {
   "display_name": "Python 3",
   "language": "python",
   "name": "python3"
  },
  "language_info": {
   "codemirror_mode": {
    "name": "ipython",
    "version": 3
   },
   "file_extension": ".py",
   "mimetype": "text/x-python",
   "name": "python",
   "nbconvert_exporter": "python",
   "pygments_lexer": "ipython3",
   "version": "3.7.4"
  }
 },
 "nbformat": 4,
 "nbformat_minor": 2
}
