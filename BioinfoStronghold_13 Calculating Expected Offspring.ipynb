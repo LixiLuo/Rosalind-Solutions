{
 "cells": [
  {
   "cell_type": "markdown",
   "metadata": {},
   "source": [
    "Rosalind:          \n",
    "1. 注意int()用法\n",
    "2. 想要偷懒少复制黏贴，就用zip\n",
    "3. 'string'.split()用法"
   ]
  },
  {
   "cell_type": "code",
   "execution_count": 106,
   "metadata": {},
   "outputs": [
    {
     "data": {
      "text/plain": [
       "156046.0"
      ]
     },
     "execution_count": 106,
     "metadata": {},
     "output_type": "execute_result"
    }
   ],
   "source": [
    "sum([2 * x[0] * int(x[1]) for x in zip([1.0, 1.0, 1.0, 0.75, 0.5, 0.0], '16420 19159 19567 18370 18199 17747'.split())])"
   ]
  },
  {
   "cell_type": "code",
   "execution_count": 107,
   "metadata": {},
   "outputs": [
    {
     "data": {
      "text/plain": [
       "['16420', '19159', '19567', '18370', '18199', '17747']"
      ]
     },
     "execution_count": 107,
     "metadata": {},
     "output_type": "execute_result"
    }
   ],
   "source": [
    "'16420 19159 19567 18370 18199 17747'.split()"
   ]
  },
  {
   "cell_type": "markdown",
   "metadata": {},
   "source": [
    "Mine:     \n",
    "把问题复杂了，自己去做了100000次随机抽样"
   ]
  },
  {
   "cell_type": "code",
   "execution_count": 99,
   "metadata": {},
   "outputs": [],
   "source": [
    "#AA-AA\n",
    "U=16420\n",
    "#AA-Aa\n",
    "V=19159\n",
    "#AA-aa\n",
    "W=19567 \n",
    "#Aa-Aa\n",
    "X=18370 \n",
    "#Aa-aa\n",
    "Y=18199\n",
    "#aa-aa\n",
    "Z=17747"
   ]
  },
  {
   "cell_type": "code",
   "execution_count": 101,
   "metadata": {},
   "outputs": [
    {
     "data": {
      "text/plain": [
       "156046.0"
      ]
     },
     "execution_count": 101,
     "metadata": {},
     "output_type": "execute_result"
    }
   ],
   "source": [
    "Domi=U*2+V*2+W*2+X*1.5+Y*1\n",
    "Domi"
   ]
  },
  {
   "cell_type": "code",
   "execution_count": 65,
   "metadata": {},
   "outputs": [
    {
     "data": {
      "text/plain": [
       "1.49908"
      ]
     },
     "execution_count": 65,
     "metadata": {},
     "output_type": "execute_result"
    }
   ],
   "source": [
    "#以下x和y是我愚蠢的100000次随机抽样结果\n",
    "x=[1,1,1,0]\n",
    "X1=[]\n",
    "X2=[]\n",
    "for i in range(0,100000):\n",
    "    x1=np.random.permutation(x)\n",
    "    x2=np.random.permutation(x)\n",
    "    X1.append(x1[0])\n",
    "    X2.append(x2[0])\n",
    "pX=np.mean(X1)+np.mean(X2)\n",
    "pX"
   ]
  },
  {
   "cell_type": "code",
   "execution_count": 66,
   "metadata": {},
   "outputs": [
    {
     "data": {
      "text/plain": [
       "0.99882"
      ]
     },
     "execution_count": 66,
     "metadata": {},
     "output_type": "execute_result"
    }
   ],
   "source": [
    "y=[1,1,0,0]\n",
    "Y1=[]\n",
    "Y2=[]\n",
    "for i in range(0,100000):\n",
    "    y1=np.random.permutation(y)\n",
    "    y2=np.random.permutation(y)\n",
    "    Y1.append(y1[0])\n",
    "    Y2.append(y2[0])\n",
    "pY=np.mean(Y1)+np.mean(Y2)\n",
    "pY"
   ]
  }
 ],
 "metadata": {
  "kernelspec": {
   "display_name": "Python 3",
   "language": "python",
   "name": "python3"
  },
  "language_info": {
   "codemirror_mode": {
    "name": "ipython",
    "version": 3
   },
   "file_extension": ".py",
   "mimetype": "text/x-python",
   "name": "python",
   "nbconvert_exporter": "python",
   "pygments_lexer": "ipython3",
   "version": "3.7.4"
  }
 },
 "nbformat": 4,
 "nbformat_minor": 2
}
