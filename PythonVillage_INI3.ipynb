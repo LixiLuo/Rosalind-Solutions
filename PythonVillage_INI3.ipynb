{
 "cells": [
  {
   "cell_type": "code",
   "execution_count": 11,
   "metadata": {},
   "outputs": [],
   "source": [
    "c='Mx2Q7tjp3nlyn2Ktrhy10jkX9tr39OmKtItrVJQkEWjHogXUqZct0JQr1nUWN4qxO64Phelsuma7FdoOeP65ii7D9yGM4YSdyY3r0zshMC26HHjseTrmBXbPnjCkPhoApKJgdKgmrWnnKJCxKalpinaZg6xDmWyxxXdhBnxER98n619YGxGD.'\n",
    "a=67 \n",
    "b=74 \n",
    "d=145 \n",
    "e=150"
   ]
  },
  {
   "cell_type": "code",
   "execution_count": 12,
   "metadata": {},
   "outputs": [
    {
     "data": {
      "text/plain": [
       "'Phelsuma alpina'"
      ]
     },
     "execution_count": 12,
     "metadata": {},
     "output_type": "execute_result"
    }
   ],
   "source": [
    "c[a:b+1]+' '+c[d:e+1]"
   ]
  }
 ],
 "metadata": {
  "kernelspec": {
   "display_name": "Python 3",
   "language": "python",
   "name": "python3"
  },
  "language_info": {
   "codemirror_mode": {
    "name": "ipython",
    "version": 3
   },
   "file_extension": ".py",
   "mimetype": "text/x-python",
   "name": "python",
   "nbconvert_exporter": "python",
   "pygments_lexer": "ipython3",
   "version": "3.7.4"
  }
 },
 "nbformat": 4,
 "nbformat_minor": 2
}
