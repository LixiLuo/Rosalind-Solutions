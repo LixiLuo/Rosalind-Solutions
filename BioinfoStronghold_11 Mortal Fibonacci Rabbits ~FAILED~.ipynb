{
 "cells": [
  {
   "cell_type": "markdown",
   "metadata": {},
   "source": [
    "Best:"
   ]
  },
  {
   "cell_type": "code",
   "execution_count": 22,
   "metadata": {},
   "outputs": [
    {
     "name": "stdout",
     "output_type": "stream",
     "text": [
      "7513165195107624104\n"
     ]
    }
   ],
   "source": [
    "n = 92\n",
    "m = 19\n",
    "ages = [1] + [0]*(m-1)\n",
    "for i in range(n-1):\n",
    "    ages = [sum(ages[1:])] + ages[:-1]\n",
    "print(sum(ages))\n",
    "\n",
    "#我的理解：算的不是ages，而是每一个age对应的兔子数\n",
    "#ages[0]是第一代，没有生育能力的，ages[1:]是具有生育力的234代\n",
    "#但是ages[-1]会在下一个月死掉，所以下一个月的新生儿总数只能是ages[:-1]"
   ]
  },
  {
   "cell_type": "markdown",
   "metadata": {},
   "source": [
    "Or:"
   ]
  },
  {
   "cell_type": "code",
   "execution_count": 31,
   "metadata": {},
   "outputs": [
    {
     "data": {
      "text/plain": [
       "7513165195107624104"
      ]
     },
     "execution_count": 31,
     "metadata": {},
     "output_type": "execute_result"
    }
   ],
   "source": [
    "def population(n, m=1):\n",
    "    h = [0]*(m-2) + [1, 1, 1]\n",
    "    for i in range(n-2):\n",
    "        h += [h[-1] + h[-2] - h[-m-1]]\n",
    "    return h[-1]\n",
    "n=92\n",
    "m=19\n",
    "population(n,m)"
   ]
  },
  {
   "cell_type": "markdown",
   "metadata": {},
   "source": [
    "Or:"
   ]
  },
  {
   "cell_type": "code",
   "execution_count": 39,
   "metadata": {},
   "outputs": [
    {
     "data": {
      "text/plain": [
       "7540113804746346429"
      ]
     },
     "execution_count": 39,
     "metadata": {},
     "output_type": "execute_result"
    }
   ],
   "source": [
    "def popu(n, m=1):\n",
    "    h = [0]*(m-2) + [1, 1, 1]\n",
    "    for i in range(n-2):\n",
    "        h += [h[-1] + h[-2] - h[0]]\n",
    "    return h[-1]\n",
    "n=92\n",
    "m=19\n",
    "popu(n,m)"
   ]
  },
  {
   "cell_type": "code",
   "execution_count": 40,
   "metadata": {},
   "outputs": [
    {
     "data": {
      "text/plain": [
       "[0, 0, 1, 1, 1]"
      ]
     },
     "execution_count": 40,
     "metadata": {},
     "output_type": "execute_result"
    }
   ],
   "source": [
    "h=[0]*2+[1,1,1]\n",
    "h"
   ]
  },
  {
   "cell_type": "code",
   "execution_count": 42,
   "metadata": {},
   "outputs": [
    {
     "data": {
      "text/plain": [
       "[2]"
      ]
     },
     "execution_count": 42,
     "metadata": {},
     "output_type": "execute_result"
    }
   ],
   "source": [
    "[h[-1] + h[-2] - h[0]]"
   ]
  },
  {
   "cell_type": "code",
   "execution_count": 43,
   "metadata": {},
   "outputs": [
    {
     "data": {
      "text/plain": [
       "[0, 0, 1, 1, 1, 2]"
      ]
     },
     "execution_count": 43,
     "metadata": {},
     "output_type": "execute_result"
    }
   ],
   "source": [
    "[0, 0, 1, 1, 1]+[2]"
   ]
  }
 ],
 "metadata": {
  "kernelspec": {
   "display_name": "Python 3",
   "language": "python",
   "name": "python3"
  },
  "language_info": {
   "codemirror_mode": {
    "name": "ipython",
    "version": 3
   },
   "file_extension": ".py",
   "mimetype": "text/x-python",
   "name": "python",
   "nbconvert_exporter": "python",
   "pygments_lexer": "ipython3",
   "version": "3.7.4"
  }
 },
 "nbformat": 4,
 "nbformat_minor": 2
}
