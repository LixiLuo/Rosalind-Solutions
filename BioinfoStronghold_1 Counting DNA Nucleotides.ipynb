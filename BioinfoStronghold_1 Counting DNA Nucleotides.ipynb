{
 "cells": [
  {
   "cell_type": "markdown",
   "metadata": {},
   "source": [
    "Mine:                    \n",
    "知识点:           \n",
    "1. string转list: list(c)              \n",
    "2. Counter()是dict格式                \n",
    "3. 如果不用排序，其实可以用dict.values() or dict.keys()\n",
    "4. 学会巧用zip\n",
    "5. 换行变成空格 end=' '"
   ]
  },
  {
   "cell_type": "code",
   "execution_count": 1,
   "metadata": {},
   "outputs": [
    {
     "name": "stdout",
     "output_type": "stream",
     "text": [
      "233 244 234 213 "
     ]
    }
   ],
   "source": [
    "c='CCTATGTCGTGTGGTCTTGCCATAAATCGGGGACGGACGCGGTAATATAGTGCATCCGGAGCCAGTACTGCTGTTACAGGGAGTTAGGTACCACTTTCGAAGCTAATAGGTAGCAAGCGGCACCGGTGATGCTGGTTCAAATCACGGCCAGTACTCTAGCCTTTCGATTTCTTGACACGACTTCTTTTACTGGCACTCCGCAACTCCAACGGTAATTGCGAGTCAAGAGAGGTCTGGTTCTAGGGAGTCCCGCGGTCAACAAAGCAGATCATCTAGTGCCGCACGCCTTCGGCCGTCCCGCGAAGATGTGTGAGTGCAACCTCTGTATAGACGTCTCGAGTTACACCGAGCCCACAAGCAACATGCAAGCTGCTCGATTAAATGTGAGACGGCACTCTAATTCCATGAGCTATAGTCACGGTGGGTAATTGTTGAAAAACGTATTCCATCAAGCGCACGTCATCATGTCAAAGCACAAAGTGTCAAGCAGACGCTCGTGCAACGTATAGGCCAGATGAAACTACCTAGTAAGTTAGAGGGCATCACTCGTGACACCTGCAACACAGGCCTTGGGTGGATCGTGGCGCCCCGCTTGTCGTTGACGGATCAGATGGCGGATGAGAAACACAGCGTTTTTAGATTTACTCATACCTCTCGTCTGCTGCATATGAGCGCCTCCCTAAAGTCGGCACCGCGGTTAGGCGGGACGGAGGCCACGAATGCACTATGCTGCCCTCTTCCCGGCTAGGGACGCACGATAAACATTTCGACGCACCAGGCAAATTATGCGATATTATCTTCTGCGCGCGAGAGGTCGCATTGACATCTACCGTTAACCCATTTCCCGCATGGCCGGTAAGCAATACGGGCGCCCTTAATTCCGCTCTTTAGAAAATCAAACCGCGGTAATTTCAACAGCACAGA'\n",
    "from collections import Counter\n",
    "list_of_dict=list(Counter(list(c)).items())\n",
    "list_of_dict.sort()\n",
    "name, number= zip(*list_of_dict)\n",
    "for i in number:\n",
    "    print(i,end=' ')"
   ]
  },
  {
   "cell_type": "markdown",
   "metadata": {},
   "source": [
    "From Rosalind:     "
   ]
  },
  {
   "cell_type": "code",
   "execution_count": 15,
   "metadata": {},
   "outputs": [
    {
     "name": "stdout",
     "output_type": "stream",
     "text": [
      "233 244 234 213\n"
     ]
    }
   ],
   "source": [
    "print(*map(c.count, \"ACGT\")) #对map的理解：map(value/object, key)  见Python for Data Analysis一书 p86"
   ]
  },
  {
   "cell_type": "markdown",
   "metadata": {},
   "source": [
    "Or:            \n",
    "My favourite"
   ]
  },
  {
   "cell_type": "code",
   "execution_count": 155,
   "metadata": {},
   "outputs": [
    {
     "name": "stdout",
     "output_type": "stream",
     "text": [
      "233 244 234 213\n"
     ]
    }
   ],
   "source": [
    "print(*(c.count(x) for x in 'ACGT' ))"
   ]
  },
  {
   "cell_type": "code",
   "execution_count": 12,
   "metadata": {},
   "outputs": [
    {
     "name": "stdout",
     "output_type": "stream",
     "text": [
      "233 244 234 213\n"
     ]
    }
   ],
   "source": [
    "#解释1\n",
    "list=(c.count(x) for x in 'ACGT')  #此处用list=[]更能帮助理解\n",
    "\n",
    "#解释2: *(list) means to upack a list\n",
    "print(*list)"
   ]
  },
  {
   "cell_type": "markdown",
   "metadata": {},
   "source": [
    "Or:"
   ]
  },
  {
   "cell_type": "code",
   "execution_count": 160,
   "metadata": {},
   "outputs": [
    {
     "name": "stdout",
     "output_type": "stream",
     "text": [
      "233 244 234 213\n"
     ]
    }
   ],
   "source": [
    "def qt(s):\n",
    "    print (s.count('A') ,s.count(\"C\"), s.count(\"G\"), s.count(\"T\"),sep=' ')\n",
    "qt(c)"
   ]
  }
 ],
 "metadata": {
  "kernelspec": {
   "display_name": "Python 3",
   "language": "python",
   "name": "python3"
  },
  "language_info": {
   "codemirror_mode": {
    "name": "ipython",
    "version": 3
   },
   "file_extension": ".py",
   "mimetype": "text/x-python",
   "name": "python",
   "nbconvert_exporter": "python",
   "pygments_lexer": "ipython3",
   "version": "3.7.4"
  }
 },
 "nbformat": 4,
 "nbformat_minor": 2
}
