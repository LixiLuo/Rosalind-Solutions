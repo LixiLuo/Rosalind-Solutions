{
 "cells": [
  {
   "cell_type": "markdown",
   "metadata": {},
   "source": [
    "(1)"
   ]
  },
  {
   "cell_type": "code",
   "execution_count": 148,
   "metadata": {},
   "outputs": [
    {
     "data": {
      "text/plain": [
       "11453246123"
      ]
     },
     "execution_count": 148,
     "metadata": {},
     "output_type": "execute_result"
    }
   ],
   "source": [
    "def fib(n, k):\n",
    "    a, b = 1, 1\n",
    "    for i in range(2, n):  #for loop + np.arange也可以作为循环运行的命令吗？\n",
    "        a, b = b, k*a + b\n",
    "    return b\n",
    "fib(35,2)"
   ]
  },
  {
   "cell_type": "markdown",
   "metadata": {},
   "source": [
    "(2)"
   ]
  },
  {
   "cell_type": "code",
   "execution_count": 146,
   "metadata": {},
   "outputs": [
    {
     "name": "stdout",
     "output_type": "stream",
     "text": [
      "11453246123\n"
     ]
    }
   ],
   "source": [
    "def Fibonacci(n, k):\n",
    "    F1 = 1\n",
    "    F2 = 1\n",
    "    Fn = 0\n",
    "    month = 0\n",
    "    while month < n-2:\n",
    "        Fn = F1 + k*F2\n",
    "        F2 = F1\n",
    "        F1 = Fn\n",
    "        month += 1\n",
    "    return Fn\n",
    "print (Fibonacci(35, 2))"
   ]
  },
  {
   "cell_type": "markdown",
   "metadata": {},
   "source": [
    "(3)"
   ]
  },
  {
   "cell_type": "code",
   "execution_count": 157,
   "metadata": {},
   "outputs": [
    {
     "data": {
      "text/plain": [
       "11453246123"
      ]
     },
     "execution_count": 157,
     "metadata": {},
     "output_type": "execute_result"
    }
   ],
   "source": [
    "def fib(n, k):\n",
    "    previous1, previous2 = 1, 1\n",
    "    for i in range(0, n-2):\n",
    "        current = previous1 + k * previous2\n",
    "        previous2 = previous1\n",
    "        previous1 = current\n",
    "    return current\n",
    "fib(35,2)"
   ]
  },
  {
   "cell_type": "markdown",
   "metadata": {},
   "source": [
    "(4)"
   ]
  },
  {
   "cell_type": "code",
   "execution_count": 145,
   "metadata": {},
   "outputs": [
    {
     "name": "stdout",
     "output_type": "stream",
     "text": [
      "11453246123\n",
      "\n",
      "---\n",
      "\n"
     ]
    }
   ],
   "source": [
    "adults = 0\n",
    "children = 1\n",
    "\n",
    "count = 1\n",
    "newadults = 0\n",
    "\n",
    "n = 35 # number of iterations (months)\n",
    "k = 2# number of times each pair \n",
    "\n",
    "while count < n:   # while让下面的命令循环运行直到打破()里的条件！\n",
    "    newadults = adults + children\n",
    "    children = adults * k\n",
    "    adults = newadults\n",
    "    count = count + 1\n",
    "    \n",
    "print (adults + children)\n",
    "\n",
    "print(\"\\n---\\n\")#这段是为了换行，被我误抄了进来#"
   ]
  },
  {
   "cell_type": "markdown",
   "metadata": {},
   "source": [
    "Finally, mine:"
   ]
  },
  {
   "cell_type": "code",
   "execution_count": 144,
   "metadata": {},
   "outputs": [
    {
     "name": "stdout",
     "output_type": "stream",
     "text": [
      "11453246123\n"
     ]
    }
   ],
   "source": [
    "f1=1\n",
    "f2=1\n",
    "k=2\n",
    "n=3\n",
    "ct=0\n",
    "\n",
    "while ct<n-2:\n",
    "    fn=f1*k+f2\n",
    "    f1=f2\n",
    "    f2=fn\n",
    "    ct=ct+1\n",
    "print(Fn)"
   ]
  },
  {
   "cell_type": "markdown",
   "metadata": {},
   "source": [
    "那么如果想要列出每一代数目直至n:"
   ]
  },
  {
   "cell_type": "code",
   "execution_count": 186,
   "metadata": {},
   "outputs": [
    {
     "data": {
      "text/plain": [
       "[1,\n",
       " 1,\n",
       " 3,\n",
       " 5,\n",
       " 11,\n",
       " 21,\n",
       " 43,\n",
       " 85,\n",
       " 171,\n",
       " 341,\n",
       " 683,\n",
       " 1365,\n",
       " 2731,\n",
       " 5461,\n",
       " 10923,\n",
       " 21845,\n",
       " 43691,\n",
       " 87381,\n",
       " 174763,\n",
       " 349525,\n",
       " 699051,\n",
       " 1398101,\n",
       " 2796203,\n",
       " 5592405,\n",
       " 11184811,\n",
       " 22369621,\n",
       " 44739243,\n",
       " 89478485,\n",
       " 178956971,\n",
       " 357913941,\n",
       " 715827883,\n",
       " 1431655765,\n",
       " 2863311531,\n",
       " 5726623061,\n",
       " 11453246123]"
      ]
     },
     "execution_count": 186,
     "metadata": {},
     "output_type": "execute_result"
    }
   ],
   "source": [
    "result=[]\n",
    "def fib(n, k):\n",
    "    a, b = 1, 1\n",
    "    for i in range(2, n):  \n",
    "        a, b = b, k*a + b\n",
    "    return b\n",
    "result.extend(fib(n,2) for n in range(1,36))\n",
    "result"
   ]
  }
 ],
 "metadata": {
  "kernelspec": {
   "display_name": "Python 3",
   "language": "python",
   "name": "python3"
  },
  "language_info": {
   "codemirror_mode": {
    "name": "ipython",
    "version": 3
   },
   "file_extension": ".py",
   "mimetype": "text/x-python",
   "name": "python",
   "nbconvert_exporter": "python",
   "pygments_lexer": "ipython3",
   "version": "3.7.4"
  }
 },
 "nbformat": 4,
 "nbformat_minor": 2
}
